{
 "cells": [
  {
   "cell_type": "code",
   "execution_count": 38,
   "metadata": {},
   "outputs": [],
   "source": [
    "import pandas as pd\n",
    "import os\n",
    "\n",
    "#################\n",
    "### Happiness ###\n",
    "#################\n",
    "dir_name = \"Original_Data/happiness/\"\n",
    "files = os.listdir(dir_name)\n",
    "happiness_index = {}\n",
    "for file_name in files:\n",
    "    year = file_name[:-4]\n",
    "    if year in [\"2020\"]:\n",
    "        subset = ['Country name', 'Ladder score']\n",
    "    elif year in [\"2019\", \"2018\"]:\n",
    "        subset = ['Country or region', 'Score']\n",
    "    elif year in ['2017']:\n",
    "        subset = ['Country', 'Happiness.Score']\n",
    "    elif year in ['2016', '2015']:\n",
    "        subset = ['Country', 'Happiness Score']\n",
    "    else:\n",
    "        print(\"No data for year\", year)\n",
    "    happiness_index[year] = pd.read_csv(dir_name + file_name).dropna(subset = subset)\n",
    "\n",
    "with open('processed/Happiness.csv', 'w') as f:\n",
    "    print(\"country,year,score\", file = f)\n",
    "    for year in happiness_index.keys():\n",
    "        tab = happiness_index[year]\n",
    "        for instance in happiness_index[year].values.tolist():\n",
    "            if year in [\"2020\", \"2017\"]:\n",
    "                print(\"%s,%s,%.2f\" % (instance[0], year, instance[2]), file = f)\n",
    "            elif year in [\"2019\", \"2018\"]:\n",
    "                print(\"%s,%s,%.2f\" % (instance[1], year, instance[2]), file = f)\n",
    "            elif year in [\"2016\", \"2015\"]:\n",
    "                print(\"%s,%s,%.2f\" % (instance[0], year, instance[3]), file = f)"
   ]
  },
  {
   "cell_type": "code",
   "execution_count": 39,
   "metadata": {},
   "outputs": [],
   "source": [
    "###############\n",
    "### Country ###         \n",
    "###############\n",
    "country_info = {}\n",
    "GDP = pd.read_csv(\"Original_Data/country_info/\" + \"GDP_per_capita.csv\").dropna(subset = ['Country', 'GDP per capita']).values.tolist()\n",
    "for instance in GDP:\n",
    "    country_info[instance[0]] = {\"GDP\": instance[1]}\n",
    "\n",
    "life_exp = pd.read_csv(\"Original_Data/country_info/\" + \"Life_expectancy.csv\").dropna(subset = ['Country', 'Life expectancy']).values.tolist()\n",
    "for instance in life_exp:\n",
    "    if instance[0] in country_info.keys():\n",
    "        country_info[instance[0]][\"life_exp\"] = instance[1]\n",
    "    else:\n",
    "        country_info[instance[0]] = {\"life_exp\": instance[1]}\n",
    "        #print(\"creating new key in country_info:\", instance[0])\n",
    "\n",
    "med_age = pd.read_csv(\"Original_Data/country_info/\" + \"Median_age.csv\").dropna(subset = ['Country', 'Median age']).values.tolist()\n",
    "for instance in med_age:\n",
    "    if instance[0] in country_info.keys():\n",
    "        country_info[instance[0]][\"med_age\"] = instance[1]\n",
    "    else:\n",
    "        country_info[instance[0]] = {\"med_age\": instance[1]}\n",
    "        #print(\"creating new key in country_info:\", instance[0])\n",
    "        \n",
    "with open(\"processed/Country.csv\", 'w') as f:\n",
    "    print(\"country,med_age,life_expectancy,gdp\", file = f)\n",
    "    for country in country_info.keys():\n",
    "        if len(country_info[country].keys()) == 3:\n",
    "            print(\"%s,%.1f,%.1f,%.1f\" % (country, country_info[country][\"med_age\"], country_info[country][\"life_exp\"], country_info[country][\"GDP\"]), file = f)"
   ]
  },
  {
   "cell_type": "code",
   "execution_count": 40,
   "metadata": {},
   "outputs": [],
   "source": [
    "###################          \n",
    "### Case_Gender ###            \n",
    "###################\n",
    "with open(\"processed/Case_Gender.csv\", 'w') as f:\n",
    "    gender = pd.read_csv(\"Original_Data/gender.csv\").dropna(subset = [\"Country\", \"Cases (% male)\", \"Cases (% female)\"]).values.tolist()\n",
    "    print(\"country,female_percent,male_percent\", file = f)\n",
    "    for instance in gender:\n",
    "        print(\"%s,%s,%s\" % (instance[1], instance[5], instance[6]), file = f)"
   ]
  },
  {
   "cell_type": "code",
   "execution_count": 41,
   "metadata": {},
   "outputs": [],
   "source": [
    "###################        \n",
    "### Air_Traffic ###\n",
    "###################\n",
    "with open(\"processed/Air_Traffic.csv\", 'w') as f:\n",
    "    air_traffic = pd.read_csv(\"Original_Data/covid_impact_on_airport_traffic.csv\").dropna(subset = ['Date', 'AirportName']).values.tolist()\n",
    "    print(\"airport,date,country,state,city,baseline_percent\", file = f)\n",
    "    for instance in air_traffic:\n",
    "        print(\"%s,%s,%s,%s,%s,%d\" % (instance[3], instance[1], instance[9], instance[7], instance[6], instance[4]), file = f)"
   ]
  },
  {
   "cell_type": "code",
   "execution_count": 42,
   "metadata": {},
   "outputs": [],
   "source": [
    "#############\n",
    "### COVID ###\n",
    "#############\n",
    "with open(\"processed/COVID.csv\", 'w') as f:\n",
    "    covid = pd.read_csv(\"Original_Data/covid_19_all.csv\").dropna(subset = ['Country/Region', 'Province/State', 'Date']).values.tolist()\n",
    "    print(\"country,province,date,longitude,latitude,confirmed,death,recovered\", file = f)\n",
    "    for instance in covid:\n",
    "        print(\"%s,%s,%s,%.2f,%.2f,%.f,%.f,%.f\" % (instance[0], instance[1], instance[7], instance[3], instance[2], instance[4], instance[6], instance[5]), file = f)"
   ]
  },
  {
   "cell_type": "code",
   "execution_count": null,
   "metadata": {},
   "outputs": [],
   "source": []
  }
 ],
 "metadata": {
  "kernelspec": {
   "display_name": "Python 3",
   "language": "python",
   "name": "python3"
  },
  "language_info": {
   "codemirror_mode": {
    "name": "ipython",
    "version": 3
   },
   "file_extension": ".py",
   "mimetype": "text/x-python",
   "name": "python",
   "nbconvert_exporter": "python",
   "pygments_lexer": "ipython3",
   "version": "3.8.5"
  }
 },
 "nbformat": 4,
 "nbformat_minor": 4
}
